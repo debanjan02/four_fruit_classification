{
 "cells": [
  {
   "cell_type": "code",
   "execution_count": 1,
   "metadata": {},
   "outputs": [],
   "source": [
    "import numpy as np\n",
    "import pandas as pd\n",
    "import matplotlib.pyplot as plt\n",
    "from glob import glob\n",
    "import cv2\n",
    "import fnmatch\n",
    "from sklearn.cluster import MeanShift, estimate_bandwidth, KMeans\n",
    "from sklearn.datasets.samples_generator import make_blobs\n",
    "%matplotlib inline"
   ]
  },
  {
   "cell_type": "code",
   "execution_count": 2,
   "metadata": {},
   "outputs": [
    {
     "data": {
      "text/plain": [
       "60"
      ]
     },
     "execution_count": 2,
     "metadata": {},
     "output_type": "execute_result"
    }
   ],
   "source": [
    "imagePatches = glob('D:/fruit_image_classification/test/*.jpg', recursive=True)\n",
    "len(imagePatches)"
   ]
  },
  {
   "cell_type": "code",
   "execution_count": 3,
   "metadata": {
    "scrolled": true
   },
   "outputs": [
    {
     "name": "stdout",
     "output_type": "stream",
     "text": [
      "19\n",
      "18\n",
      "18\n",
      "5\n"
     ]
    }
   ],
   "source": [
    "pattern_apple = '*apple*'\n",
    "pattern_banana = '*banana*'\n",
    "pattern_orange = '*orange*'\n",
    "pattern_mixed = '*mixed*'\n",
    "\n",
    "apple = fnmatch.filter(imagePatches, pattern_apple)\n",
    "banana = fnmatch.filter(imagePatches, pattern_banana)\n",
    "orange = fnmatch.filter(imagePatches, pattern_orange)\n",
    "mixed = fnmatch.filter(imagePatches,pattern_mixed)\n",
    "\n",
    "print(len(apple))\n",
    "print(len(banana))\n",
    "print(len(orange))\n",
    "print(len(mixed))"
   ]
  },
  {
   "cell_type": "code",
   "execution_count": 4,
   "metadata": {
    "scrolled": false
   },
   "outputs": [],
   "source": [
    "X = []\n",
    "y = []\n",
    "for img in imagePatches:\n",
    "    full_size_image = cv2.imread(img)\n",
    "    im = cv2.resize(full_size_image, (224, 224), interpolation=cv2.INTER_CUBIC)\n",
    "    X.append(im)\n",
    "    if img in apple:\n",
    "        y.append(0)\n",
    "    elif img in banana:\n",
    "        y.append(1)\n",
    "    elif img in orange:\n",
    "        y.append(2)\n",
    "    elif img in mixed:\n",
    "        y.append(3)\n",
    "    else:\n",
    "        #break\n",
    "        print('no class')\n",
    "    "
   ]
  },
  {
   "cell_type": "code",
   "execution_count": 5,
   "metadata": {},
   "outputs": [],
   "source": [
    "X = np.array(X)\n",
    "y =  np.array(y)"
   ]
  },
  {
   "cell_type": "code",
   "execution_count": 6,
   "metadata": {},
   "outputs": [],
   "source": [
    "np.save('D:/fruit_image_classification/x_test.npy',X, allow_pickle=True)\n",
    "np.save('D:/fruit_image_classification/y_test.npy',y, allow_pickle=True)"
   ]
  },
  {
   "cell_type": "code",
   "execution_count": 7,
   "metadata": {},
   "outputs": [],
   "source": [
    "del X, y"
   ]
  }
 ],
 "metadata": {
  "kernelspec": {
   "display_name": "Python 3",
   "language": "python",
   "name": "python3"
  },
  "language_info": {
   "codemirror_mode": {
    "name": "ipython",
    "version": 3
   },
   "file_extension": ".py",
   "mimetype": "text/x-python",
   "name": "python",
   "nbconvert_exporter": "python",
   "pygments_lexer": "ipython3",
   "version": "3.6.4"
  }
 },
 "nbformat": 4,
 "nbformat_minor": 2
}
